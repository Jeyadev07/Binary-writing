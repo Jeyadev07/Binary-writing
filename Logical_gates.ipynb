{
  "nbformat": 4,
  "nbformat_minor": 0,
  "metadata": {
    "colab": {
      "provenance": [],
      "authorship_tag": "ABX9TyPXSAFqGeLB4gyCFrk0GqzU",
      "include_colab_link": true
    },
    "kernelspec": {
      "name": "python3",
      "display_name": "Python 3"
    },
    "language_info": {
      "name": "python"
    }
  },
  "cells": [
    {
      "cell_type": "markdown",
      "metadata": {
        "id": "view-in-github",
        "colab_type": "text"
      },
      "source": [
        "<a href=\"https://colab.research.google.com/github/Jeyadev07/Binary-writing/blob/main/Logical_gates.ipynb\" target=\"_parent\"><img src=\"https://colab.research.google.com/assets/colab-badge.svg\" alt=\"Open In Colab\"/></a>"
      ]
    },
    {
      "cell_type": "code",
      "execution_count": 3,
      "metadata": {
        "colab": {
          "base_uri": "https://localhost:8080/"
        },
        "id": "O69wnnN3rsG2",
        "outputId": "a3579f5b-73e0-44fa-dc0d-df50949cd824"
      },
      "outputs": [
        {
          "output_type": "stream",
          "name": "stdout",
          "text": [
            "NOT\n",
            "1\n",
            "0\n",
            "NAND\n",
            "1\n",
            "1\n",
            "1\n",
            "1\n",
            "NOR\n",
            "0\n",
            "1\n",
            "0\n",
            "0\n"
          ]
        }
      ],
      "source": [
        "import numpy as np \n",
        "def step_function(x):\n",
        "    if x >= 0:\n",
        "        return 1\n",
        "    else:\n",
        "        return 0\n",
        "def NOT(x):\n",
        "    w = np.array([-1]) \n",
        "    b = 0\n",
        "    x = np.array(x) \n",
        "    z = np.dot(w, x) + b \n",
        "    y = step_function(z) \n",
        "    return y\n",
        "\n",
        "def NAND(x):\n",
        "    w = np.array([-1, -1]) \n",
        "    b = 2 \n",
        "    x = np.array(x) \n",
        "    z = np.dot(w, x) + b \n",
        "    y = step_function(z)\n",
        "    return y\n",
        "\n",
        "def NOR(x):\n",
        "    w = np.array([-1, -1]) \n",
        "    b = 0 \n",
        "    x = np.array(x) \n",
        "    z = np.dot(w, x) + b \n",
        "    y = step_function(z) \n",
        "    return y\n",
        "print('NOT')\n",
        "print(NOT(0))\n",
        "print(NOT(1)) \n",
        "print('NAND')\n",
        "print(NAND([0, 1])) \n",
        "print(NAND([0, 0])) \n",
        "print(NAND([1, 0])) \n",
        "print(NAND([1, 1]))\n",
        "print('NOR')  \n",
        "print(NOR([0, 1])) \n",
        "print(NOR([0, 0])) \n",
        "print(NOR([1, 0])) \n",
        "print(NOR([1, 1])) "
      ]
    },
    {
      "cell_type": "code",
      "source": [],
      "metadata": {
        "id": "xvpMjYb0wpZu"
      },
      "execution_count": null,
      "outputs": []
    }
  ]
}